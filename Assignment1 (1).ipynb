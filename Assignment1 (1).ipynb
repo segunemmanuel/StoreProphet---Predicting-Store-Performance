{
 "cells": [
  {
   "cell_type": "code",
   "execution_count": 1,
   "id": "7cb61feb",
   "metadata": {},
   "outputs": [],
   "source": [
    "import pandas as pd\n",
    "import numpy as np\n",
    "import seaborn as sns\n",
    "import matplotlib.pyplot as plt\n",
    "from sklearn.datasets import load_boston\n",
    "from sklearn.model_selection import train_test_split\n",
    "from sklearn.linear_model import LogisticRegression\n",
    "from sklearn.metrics import accuracy_score, confusion_matrix, classification_report\n",
    "from sklearn.preprocessing import StandardScaler\n",
    "from sklearn.preprocessing import LabelEncoder\n",
    "from sklearn.ensemble import GradientBoostingClassifier\n",
    "from sklearn.tree import DecisionTreeClassifier\n",
    "from sklearn.metrics import accuracy_score\n",
    "from sklearn.linear_model import Lasso\n",
    "from sklearn.metrics import accuracy_score, precision_score, recall_score, f1_score\n",
    "from sklearn.preprocessing import StandardScaler, OneHotEncoder\n",
    "from sklearn.model_selection import GridSearchCV\n",
    "from sklearn.model_selection import RandomizedSearchCV\n",
    "from sklearn.model_selection import KFold\n",
    "from sklearn.linear_model import Ridge\n",
    "from sklearn.model_selection import cross_val_score, KFold, train_test_split\n",
    "from sklearn.preprocessing import MinMaxScaler\n",
    "from sklearn import datasets\n",
    "from sklearn import svm\n",
    "from sklearn.metrics import roc_curve\n",
    "from sklearn import tree"
   ]
  },
  {
   "cell_type": "code",
   "execution_count": 2,
   "id": "c41be954",
   "metadata": {},
   "outputs": [],
   "source": [
    "# import the dataset\n",
    "df=pd.read_csv(\"storedata (2).csv\")\n",
    "df_cleaned=df.copy()\n",
    "# df_cleaned.head(137)"
   ]
  },
  {
   "cell_type": "code",
   "execution_count": 3,
   "id": "1042078e",
   "metadata": {},
   "outputs": [],
   "source": [
    "# Step 1: Splitting the data into training and testing sets\n",
    "X = df_cleaned.iloc[:, :-1]\n",
    "y = df_cleaned.iloc[:, -1]\n",
    "X_train, X_test, y_train, y_test = train_test_split(X, y, test_size=0.3, random_state=42)"
   ]
  },
  {
   "cell_type": "code",
   "execution_count": 4,
   "id": "a6810b00",
   "metadata": {},
   "outputs": [
    {
     "data": {
      "text/plain": [
       "Town                  0\n",
       "Country               0\n",
       "Store ID              0\n",
       "Manager name          0\n",
       "Staff                 0\n",
       "Floor Space           0\n",
       "Window                0\n",
       "Car park              0\n",
       "Demographic score     0\n",
       "Location              0\n",
       "40min population      0\n",
       "30 min population     0\n",
       "20 min population     0\n",
       "10 min population     0\n",
       "Store age             0\n",
       "Clearance space       0\n",
       "Competition number    0\n",
       "Competition score     0\n",
       "Performance           0\n",
       "dtype: int64"
      ]
     },
     "execution_count": 4,
     "metadata": {},
     "output_type": "execute_result"
    }
   ],
   "source": [
    "# check for missing values\n",
    "df_cleaned.isnull().sum()"
   ]
  },
  {
   "cell_type": "code",
   "execution_count": 5,
   "id": "38accf9a",
   "metadata": {},
   "outputs": [
    {
     "data": {
      "text/plain": [
       "<AxesSubplot:xlabel='Performance', ylabel='count'>"
      ]
     },
     "execution_count": 5,
     "metadata": {},
     "output_type": "execute_result"
    },
    {
     "data": {
      "image/png": "[encoded data removed]",
      "text/plain": [
       "<Figure size 432x288 with 1 Axes>"
      ]
     },
     "metadata": {
      "needs_background": "light"
     },
     "output_type": "display_data"
    }
   ],
   "source": [
    "# check if target variable is ordinal or binary\n",
    "sns.countplot(x='Performance',data=df_cleaned)"
   ]
  },
  {
   "cell_type": "code",
   "execution_count": 6,
   "id": "4e7ab8a0",
   "metadata": {},
   "outputs": [
    {
     "name": "stdout",
     "output_type": "stream",
     "text": [
      "Columns having 1 unique value are :n []\n"
     ]
    }
   ],
   "source": [
    "# check if the size of the oberservation set is sufficient\n",
    "# df_cleaned.info()\n",
    "featureValues={}\n",
    "for d in df_cleaned.columns.tolist():\n",
    "    count=df_cleaned[d].nunique()\n",
    "    if count==1:\n",
    "        featureValues[d]=count\n",
    "# List of columns having same 1 unique value        \n",
    "cols_to_drop= list(featureValues.keys())\n",
    "print(\"Columns having 1 unique value are :n\",cols_to_drop)\n"
   ]
  },
  {
   "cell_type": "code",
   "execution_count": 7,
   "id": "ef0dc42f",
   "metadata": {},
   "outputs": [],
   "source": [
    "# dropping columns\n",
    "X_train = X_train.drop(['Manager name','Town','Country','Store ID'], axis=1)\n",
    "\n",
    "# print(X_train.shape)\n",
    "X_test = X_test.drop(['Manager name','Town','Country','Store ID'], axis=1)\n",
    "# pr/int(X_test.shape)"
   ]
  },
  {
   "cell_type": "code",
   "execution_count": 8,
   "id": "29eb61b5",
   "metadata": {},
   "outputs": [],
   "source": [
    "# remove missing values\n",
    "# X_train['Car park'].value_counts().plot(kind='bar')\n",
    "X_train['Car park'] = X_train['Car park'].replace({'Y':'Yes','N':'No'})\n",
    "X_test['Car park'] = X_test['Car park'].replace({'Y':'Yes','N':'No'})\n",
    "# X_train['Car park'].value_counts().plot(kind='bar')\n",
    "X_train['Car park']=X_train['Car park'].map({\"Yes\":1,\"No\":0})\n",
    "X_test['Car park']=X_test['Car park'].map({\"Yes\":1,\"No\":0})\n",
    "\n"
   ]
  },
  {
   "cell_type": "code",
   "execution_count": 9,
   "id": "4fea2256",
   "metadata": {},
   "outputs": [],
   "source": [
    "# Step 2: Data preprocessing\n",
    "cat_cols = ['Car park','Location']\n",
    "enc = OneHotEncoder(drop ='first').fit(X_train[cat_cols])   \n",
    "cat_data_train = pd.DataFrame(enc.transform(X_train[cat_cols]).toarray(), columns=enc.get_feature_names_out(cat_cols))\n",
    "cat_data_test = pd.DataFrame(enc.transform(X_test[cat_cols]).toarray(), columns=enc.get_feature_names_out(cat_cols))"
   ]
  },
  {
   "cell_type": "code",
   "execution_count": 10,
   "id": "1ada32cf",
   "metadata": {},
   "outputs": [
    {
     "name": "stdout",
     "output_type": "stream",
     "text": [
      "       Demographic score  20 min population  10 min population  \\\n",
      "count          94.000000          94.000000          94.000000   \n",
      "mean            0.498818           0.176653           0.181422   \n",
      "std             0.318359           0.203452           0.229729   \n",
      "min             0.000000           0.000000           0.000000   \n",
      "25%             0.222222           0.020022           0.019059   \n",
      "50%             0.555556           0.102523           0.097262   \n",
      "75%             0.777778           0.256449           0.236258   \n",
      "max             1.000000           1.000000           1.000000   \n",
      "\n",
      "       30 min population  40min population     Window      Staff  Floor Space  \\\n",
      "count          94.000000         94.000000  94.000000  94.000000    94.000000   \n",
      "mean            0.292498          0.451042   0.526152   0.030254     0.530099   \n",
      "std             0.249348          0.286803   0.278872   0.112926     0.273594   \n",
      "min             0.000000          0.000000   0.000000   0.000000     0.000000   \n",
      "25%             0.073400          0.220440   0.291667   0.013289     0.298076   \n",
      "50%             0.252628          0.441473   0.541667   0.014950     0.529142   \n",
      "75%             0.441135          0.672133   0.781250   0.016611     0.779065   \n",
      "max             1.000000          1.000000   1.000000   1.000000     1.000000   \n",
      "\n",
      "       Store age  Clearance space  Competition number  Competition score  \\\n",
      "count  94.000000        94.000000           94.000000          94.000000   \n",
      "mean    0.530733         0.323752            0.488180           0.502364   \n",
      "std     0.319778         0.254730            0.322285           0.330224   \n",
      "min     0.000000         0.000000            0.000000           0.000000   \n",
      "25%     0.250000         0.121394            0.222222           0.222222   \n",
      "50%     0.555556         0.271635            0.500000           0.444444   \n",
      "75%     0.777778         0.498798            0.777778           0.777778   \n",
      "max     1.000000         1.000000            1.000000           1.000000   \n",
      "\n",
      "       Car park_1  Location_Retail Park  Location_Shopping Centre  \n",
      "count   94.000000             94.000000                 94.000000  \n",
      "mean     0.734043              0.308511                  0.414894  \n",
      "std      0.444211              0.464355                  0.495346  \n",
      "min      0.000000              0.000000                  0.000000  \n",
      "25%      0.000000              0.000000                  0.000000  \n",
      "50%      1.000000              0.000000                  0.000000  \n",
      "75%      1.000000              1.000000                  1.000000  \n",
      "max      1.000000              1.000000                  1.000000  \n"
     ]
    }
   ],
   "source": [
    "# Scaling numerical features\n",
    "num_cols = ['Demographic score',\n",
    "            '20 min population',\n",
    "            '10 min population',\n",
    "            '30 min population',\n",
    "            '40min population', \n",
    "            'Window',\n",
    "            'Staff',\n",
    "            'Floor Space', \n",
    "            'Store age', \n",
    "            'Clearance space', \n",
    "            'Competition number', \n",
    "            'Competition score',]\n",
    "# scaler = StandardScaler().fit(X_train[num_cols])\n",
    "mm_scaler = MinMaxScaler().fit(X_train[num_cols])\n",
    "num_data_train = pd.DataFrame(mm_scaler.transform(X_train[num_cols]), columns=num_cols) #scaling training data\n",
    "num_data_test = pd.DataFrame(mm_scaler.transform(X_test[num_cols]), columns=num_cols) #scaling training data\n",
    "\n",
    "# Concatenate encoded categorical and scaled numerical data\n",
    "X_train = pd.concat([num_data_train, cat_data_train], axis=1)  #for training set\n",
    "X_test = pd.concat([num_data_test, cat_data_test], axis=1)     #for test data\n",
    "print(X_train.describe(include=\"all\"))"
   ]
  },
  {
   "cell_type": "code",
   "execution_count": 20,
   "id": "ea65d652",
   "metadata": {},
   "outputs": [
    {
     "name": "stdout",
     "output_type": "stream",
     "text": [
      "Accuracy of the logistic regression model: 0.59\n"
     ]
    },
    {
     "name": "stderr",
     "output_type": "stream",
     "text": [
      "c:\\Users\\user\\anaconda3\\lib\\site-packages\\sklearn\\model_selection\\_validation.py:372: FitFailedWarning: \n",
      "30 fits failed out of a total of 60.\n",
      "The score on these train-test partitions for these parameters will be set to nan.\n",
      "If these failures are not expected, you can try to debug them by setting error_score='raise'.\n",
      "\n",
      "Below are more details about the failures:\n",
      "--------------------------------------------------------------------------------\n",
      "30 fits failed with the following error:\n",
      "Traceback (most recent call last):\n",
      "  File \"c:\\Users\\user\\anaconda3\\lib\\site-packages\\sklearn\\model_selection\\_validation.py\", line 680, in _fit_and_score\n",
      "    estimator.fit(X_train, y_train, **fit_params)\n",
      "  File \"c:\\Users\\user\\anaconda3\\lib\\site-packages\\sklearn\\linear_model\\_logistic.py\", line 1461, in fit\n",
      "    solver = _check_solver(self.solver, self.penalty, self.dual)\n",
      "  File \"c:\\Users\\user\\anaconda3\\lib\\site-packages\\sklearn\\linear_model\\_logistic.py\", line 447, in _check_solver\n",
      "    raise ValueError(\n",
      "ValueError: Solver lbfgs supports only 'l2' or 'none' penalties, got l1 penalty.\n",
      "\n",
      "  warnings.warn(some_fits_failed_message, FitFailedWarning)\n",
      "c:\\Users\\user\\anaconda3\\lib\\site-packages\\sklearn\\model_selection\\_search.py:969: UserWarning: One or more of the test scores are non-finite: [       nan 0.51052632        nan 0.65964912        nan 0.68888889\n",
      "        nan 0.6994152         nan 0.67836257        nan 0.68888889]\n",
      "  warnings.warn(\n"
     ]
    }
   ],
   "source": [
    "# Define the hyperparameters to search over\n",
    "param_grid = {'C': [0.001, 0.01, 0.1, 1, 10, 100], 'penalty': ['l1', 'l2']}\n",
    "\n",
    "# Define the logistic regression model\n",
    "logreg = LogisticRegression(max_iter=1000)\n",
    "\n",
    "# Perform grid search using 5-fold cross-validation\n",
    "grid_search = GridSearchCV(logreg, param_grid, cv=5)\n",
    "grid_search.fit(X_train, y_train)\n",
    "\n",
    "# Get the best hyperparameters and use them to train the final model\n",
    "best_params = grid_search.best_params_\n",
    "final_logreg = LogisticRegression(**best_params, max_iter=1000)\n",
    "final_logreg.fit(X_train, y_train)\n",
    "\n",
    "# Evaluate the final model on the test data\n",
    "y_pred = final_logreg.predict(X_test)\n",
    "accuracy = accuracy_score(y_test, y_pred)\n",
    "print(f\"Accuracy of the logistic regression model: {accuracy:.2f}\")\n",
    "\n",
    "# Create a table of hyperparameters and accuracy\n",
    "results = pd.DataFrame(grid_search.cv_results_)\n",
    "results = results[['params', 'mean_test_score']]\n",
    "results = results.sort_values(by='mean_test_score', ascending=False)\n",
    "results = results.reset_index(drop=True)\n",
    "results['params'] = results['params'].astype(str)\n",
    "results[['C', 'penalty']] = results.params.str.extract(\"{'C': ([\\d\\.]+), 'penalty': '(\\w+)'}\")\n",
    "results = results.drop(columns=['params'])\n",
    "results = results.rename(columns={'mean_test_score': 'accuracy'})\n",
    "# print(results)"
   ]
  },
  {
   "cell_type": "code",
   "execution_count": 12,
   "id": "6169c4e5",
   "metadata": {},
   "outputs": [
    {
     "name": "stdout",
     "output_type": "stream",
     "text": [
      "{'C': 1, 'penalty': 'l2'}\n",
      "0.5853658536585366\n"
     ]
    }
   ],
   "source": [
    "# GRID CV SEARCH\n",
    "param_grid = {'C':([0.1, 1, 10,100]), 'penalty': ['l2']}\n",
    "estimator = LogisticRegression()\n",
    "# estimator = LogisticRegression(solver='liblinear', penalty='l1')\n",
    "grid = GridSearchCV(estimator, param_grid, cv=5)\n",
    "grid.fit(X_train, y_train)\n",
    "print(grid.best_params_)\n",
    "best_estimator = grid.best_estimator_\n",
    "best_estimator.fit(X_train, y_train)\n",
    "score = best_estimator.score(X_test, y_test)\n",
    "print(score)"
   ]
  },
  {
   "cell_type": "code",
   "execution_count": 13,
   "id": "7b56d418",
   "metadata": {},
   "outputs": [
    {
     "name": "stdout",
     "output_type": "stream",
     "text": [
      "Test accuracy: 0.5853658536585366\n"
     ]
    }
   ],
   "source": [
    "best_params = grid.best_params_\n",
    "final_logreg = LogisticRegression(**best_params)\n",
    "final_logreg.fit(X_train, y_train)\n",
    "test_score = final_logreg.score(X_test, y_test)\n",
    "print(\"Test accuracy:\", test_score)"
   ]
  },
  {
   "cell_type": "code",
   "execution_count": 14,
   "id": "389a4dda",
   "metadata": {},
   "outputs": [
    {
     "name": "stdout",
     "output_type": "stream",
     "text": [
      "Score of the best estimator: 0.5853658536585366\n",
      "Accuracy of the logistic regression model: 0.61\n"
     ]
    },
    {
     "data": {
      "image/png": "[encoded data removed]",
      "text/plain": [
       "<Figure size 432x288 with 2 Axes>"
      ]
     },
     "metadata": {
      "needs_background": "light"
     },
     "output_type": "display_data"
    },
    {
     "name": "stdout",
     "output_type": "stream",
     "text": [
      "              precision    recall  f1-score   support\n",
      "\n",
      "         Bad       0.55      0.84      0.67        19\n",
      "        Good       0.75      0.41      0.53        22\n",
      "\n",
      "    accuracy                           0.61        41\n",
      "   macro avg       0.65      0.63      0.60        41\n",
      "weighted avg       0.66      0.61      0.59        41\n",
      "\n"
     ]
    }
   ],
   "source": [
    "# Define the hyperparameters to search over\n",
    "param_grid = {'C': [0.1], 'penalty': [ 'l2']}\n",
    "\n",
    "# Define the logistic regression model\n",
    "logreg = LogisticRegression(max_iter=1000)\n",
    "\n",
    "# Perform grid search using 5-fold cross-validation\n",
    "grid_search = GridSearchCV(logreg, param_grid, cv=5)\n",
    "grid_search.fit(X_train, y_train)\n",
    "\n",
    "# Get the best hyperparameters and use them to train the final model\n",
    "best_params = grid_search.best_params_\n",
    "final_logreg = LogisticRegression(**best_params, max_iter=1000)\n",
    "final_logreg.fit(X_train, y_train)\n",
    "score = best_estimator.score(X_test, y_test)\n",
    "print(f\"Score of the best estimator: {score}\")\n",
    "# Evaluate the final model on the test data\n",
    "y_pred = final_logreg.predict(X_test)\n",
    "accuracy = accuracy_score(y_test, y_pred)\n",
    "print(f\"Accuracy of the logistic regression model: {accuracy:.2f}\")\n",
    "cm = confusion_matrix(y_test, y_pred)\n",
    "sns.heatmap(cm, annot=True, cmap='Blues', fmt='g')\n",
    "plt.xlabel('Predicted')\n",
    "plt.ylabel('Actual')\n",
    "plt.show()\n",
    "print(classification_report(y_test, y_pred))"
   ]
  },
  {
   "cell_type": "code",
   "execution_count": 15,
   "id": "9c9f8b70",
   "metadata": {},
   "outputs": [
    {
     "name": "stdout",
     "output_type": "stream",
     "text": [
      "Accuracy: 0.59\n"
     ]
    },
    {
     "data": {
      "image/png": "[encoded data removed]",
      "text/plain": [
       "<Figure size 432x288 with 2 Axes>"
      ]
     },
     "metadata": {
      "needs_background": "light"
     },
     "output_type": "display_data"
    },
    {
     "name": "stdout",
     "output_type": "stream",
     "text": [
      "              precision    recall  f1-score   support\n",
      "\n",
      "         Bad       0.54      0.79      0.64        19\n",
      "        Good       0.69      0.41      0.51        22\n",
      "\n",
      "    accuracy                           0.59        41\n",
      "   macro avg       0.61      0.60      0.58        41\n",
      "weighted avg       0.62      0.59      0.57        41\n",
      "\n"
     ]
    }
   ],
   "source": [
    "# Step 3: Model training and evaluation\n",
    "logreg = LogisticRegression(penalty='l2', C=1.0, max_iter=1000)\n",
    "# best_params = {'C': 1, 'penalty': 'l2'}\n",
    "# logreg=LogisticRegression(**best_params)\n",
    "# logreg=LogisticRegression(solver='liblinear', penalty='l2')\n",
    "logreg.fit(X_train, y_train)\n",
    "y_pred = logreg.predict(X_test)\n",
    "accuracy = accuracy_score(y_test, y_pred)\n",
    "print(f\"Accuracy: {accuracy:.2f}\")\n",
    "cm = confusion_matrix(y_test, y_pred)\n",
    "sns.heatmap(cm, annot=True, cmap='Blues', fmt='g')\n",
    "plt.xlabel('Predicted')\n",
    "plt.ylabel('Actual')\n",
    "plt.show()\n",
    "print(classification_report(y_test, y_pred))"
   ]
  },
  {
   "cell_type": "code",
   "execution_count": 16,
   "id": "4e8a6b60",
   "metadata": {},
   "outputs": [
    {
     "name": "stdout",
     "output_type": "stream",
     "text": [
      "Test Accuracy = 0.5853658536585366\n"
     ]
    }
   ],
   "source": [
    "print(\"Test Accuracy =\",logreg.score(X_test, y_test))"
   ]
  },
  {
   "cell_type": "code",
   "execution_count": 17,
   "id": "cc3e442b",
   "metadata": {},
   "outputs": [
    {
     "name": "stdout",
     "output_type": "stream",
     "text": [
      "['Good' 'Bad' 'Bad' 'Bad' 'Good' 'Bad' 'Good' 'Bad' 'Bad' 'Bad' 'Bad'\n",
      " 'Bad' 'Good' 'Bad' 'Bad' 'Good' 'Bad' 'Bad' 'Good' 'Good' 'Bad' 'Bad'\n",
      " 'Bad' 'Bad' 'Bad' 'Bad' 'Bad' 'Bad' 'Good' 'Bad' 'Good' 'Bad' 'Bad'\n",
      " 'Good' 'Bad' 'Bad' 'Good' 'Bad' 'Good' 'Bad' 'Good']\n"
     ]
    },
    {
     "data": {
      "text/plain": [
       "array([[15,  4],\n",
       "       [13,  9]], dtype=int64)"
      ]
     },
     "execution_count": 17,
     "metadata": {},
     "output_type": "execute_result"
    }
   ],
   "source": [
    "y_pred = logreg.predict(X_test)\n",
    "print(y_pred)\n",
    "confusion_matrix(y_test, y_pred)"
   ]
  },
  {
   "cell_type": "code",
   "execution_count": 18,
   "id": "caf5e72b",
   "metadata": {},
   "outputs": [
    {
     "name": "stdout",
     "output_type": "stream",
     "text": [
      "[0.87730548 0.30841594 0.23883968 0.40151457 0.72274979 0.32012027\n",
      " 0.85670068 0.35996464 0.44455198 0.28653068 0.28900296 0.10237457\n",
      " 0.8996196  0.31324316 0.22719638 0.63201751 0.43034363 0.14678962\n",
      " 0.5266744  0.58263522 0.46797376 0.45743525 0.24732129 0.36461954\n",
      " 0.41192305 0.26740252 0.349728   0.06013365 0.87234914 0.39274696\n",
      " 0.58571369 0.18325333 0.22861282 0.79449441 0.38958995 0.11041583\n",
      " 0.86246061 0.27203288 0.70500764 0.17537957 0.51930721]\n"
     ]
    }
   ],
   "source": [
    "Y = logreg.predict_proba(X_test)[:,1]\n",
    "print(Y)"
   ]
  },
  {
   "cell_type": "code",
   "execution_count": 19,
   "id": "e226b0b6",
   "metadata": {},
   "outputs": [
    {
     "ename": "ValueError",
     "evalue": "could not convert string to float: 'Good'",
     "output_type": "error",
     "traceback": [
      "\u001b[1;31m---------------------------------------------------------------------------\u001b[0m",
      "\u001b[1;31mValueError\u001b[0m                                Traceback (most recent call last)",
      "\u001b[1;32mc:\\Users\\user\\Downloads\\Assignment1 (1).ipynb Cell 19\u001b[0m line \u001b[0;36m<cell line: 2>\u001b[1;34m()\u001b[0m\n\u001b[0;32m      <a href='vscode-notebook-cell:/c%3A/Users/user/Downloads/Assignment1%20%281%29.ipynb#X24sZmlsZQ%3D%3D?line=0'>1</a>\u001b[0m ridge_reg \u001b[39m=\u001b[39m Ridge(alpha\u001b[39m=\u001b[39m\u001b[39m1.0\u001b[39m)\n\u001b[1;32m----> <a href='vscode-notebook-cell:/c%3A/Users/user/Downloads/Assignment1%20%281%29.ipynb#X24sZmlsZQ%3D%3D?line=1'>2</a>\u001b[0m ridge_reg\u001b[39m.\u001b[39;49mfit(X_train, y_train)\n\u001b[0;32m      <a href='vscode-notebook-cell:/c%3A/Users/user/Downloads/Assignment1%20%281%29.ipynb#X24sZmlsZQ%3D%3D?line=3'>4</a>\u001b[0m lasso_reg \u001b[39m=\u001b[39m Lasso(alpha\u001b[39m=\u001b[39m\u001b[39m1.0\u001b[39m)\n\u001b[0;32m      <a href='vscode-notebook-cell:/c%3A/Users/user/Downloads/Assignment1%20%281%29.ipynb#X24sZmlsZQ%3D%3D?line=4'>5</a>\u001b[0m lasso_reg\u001b[39m.\u001b[39mfit(X_train, y_train)\n",
      "File \u001b[1;32mc:\\Users\\user\\anaconda3\\lib\\site-packages\\sklearn\\linear_model\\_ridge.py:1003\u001b[0m, in \u001b[0;36mRidge.fit\u001b[1;34m(self, X, y, sample_weight)\u001b[0m\n\u001b[0;32m    983\u001b[0m \u001b[39m\"\"\"Fit Ridge regression model.\u001b[39;00m\n\u001b[0;32m    984\u001b[0m \n\u001b[0;32m    985\u001b[0m \u001b[39mParameters\u001b[39;00m\n\u001b[1;32m   (...)\u001b[0m\n\u001b[0;32m   1000\u001b[0m \u001b[39m    Fitted estimator.\u001b[39;00m\n\u001b[0;32m   1001\u001b[0m \u001b[39m\"\"\"\u001b[39;00m\n\u001b[0;32m   1002\u001b[0m _accept_sparse \u001b[39m=\u001b[39m _get_valid_accept_sparse(sparse\u001b[39m.\u001b[39missparse(X), \u001b[39mself\u001b[39m\u001b[39m.\u001b[39msolver)\n\u001b[1;32m-> 1003\u001b[0m X, y \u001b[39m=\u001b[39m \u001b[39mself\u001b[39;49m\u001b[39m.\u001b[39;49m_validate_data(\n\u001b[0;32m   1004\u001b[0m     X,\n\u001b[0;32m   1005\u001b[0m     y,\n\u001b[0;32m   1006\u001b[0m     accept_sparse\u001b[39m=\u001b[39;49m_accept_sparse,\n\u001b[0;32m   1007\u001b[0m     dtype\u001b[39m=\u001b[39;49m[np\u001b[39m.\u001b[39;49mfloat64, np\u001b[39m.\u001b[39;49mfloat32],\n\u001b[0;32m   1008\u001b[0m     multi_output\u001b[39m=\u001b[39;49m\u001b[39mTrue\u001b[39;49;00m,\n\u001b[0;32m   1009\u001b[0m     y_numeric\u001b[39m=\u001b[39;49m\u001b[39mTrue\u001b[39;49;00m,\n\u001b[0;32m   1010\u001b[0m )\n\u001b[0;32m   1011\u001b[0m \u001b[39mreturn\u001b[39;00m \u001b[39msuper\u001b[39m()\u001b[39m.\u001b[39mfit(X, y, sample_weight\u001b[39m=\u001b[39msample_weight)\n",
      "File \u001b[1;32mc:\\Users\\user\\anaconda3\\lib\\site-packages\\sklearn\\base.py:581\u001b[0m, in \u001b[0;36mBaseEstimator._validate_data\u001b[1;34m(self, X, y, reset, validate_separately, **check_params)\u001b[0m\n\u001b[0;32m    579\u001b[0m         y \u001b[39m=\u001b[39m check_array(y, \u001b[39m*\u001b[39m\u001b[39m*\u001b[39mcheck_y_params)\n\u001b[0;32m    580\u001b[0m     \u001b[39melse\u001b[39;00m:\n\u001b[1;32m--> 581\u001b[0m         X, y \u001b[39m=\u001b[39m check_X_y(X, y, \u001b[39m*\u001b[39m\u001b[39m*\u001b[39mcheck_params)\n\u001b[0;32m    582\u001b[0m     out \u001b[39m=\u001b[39m X, y\n\u001b[0;32m    584\u001b[0m \u001b[39mif\u001b[39;00m \u001b[39mnot\u001b[39;00m no_val_X \u001b[39mand\u001b[39;00m check_params\u001b[39m.\u001b[39mget(\u001b[39m\"\u001b[39m\u001b[39mensure_2d\u001b[39m\u001b[39m\"\u001b[39m, \u001b[39mTrue\u001b[39;00m):\n",
      "File \u001b[1;32mc:\\Users\\user\\anaconda3\\lib\\site-packages\\sklearn\\utils\\validation.py:979\u001b[0m, in \u001b[0;36mcheck_X_y\u001b[1;34m(X, y, accept_sparse, accept_large_sparse, dtype, order, copy, force_all_finite, ensure_2d, allow_nd, multi_output, ensure_min_samples, ensure_min_features, y_numeric, estimator)\u001b[0m\n\u001b[0;32m    962\u001b[0m     \u001b[39mraise\u001b[39;00m \u001b[39mValueError\u001b[39;00m(\u001b[39m\"\u001b[39m\u001b[39my cannot be None\u001b[39m\u001b[39m\"\u001b[39m)\n\u001b[0;32m    964\u001b[0m X \u001b[39m=\u001b[39m check_array(\n\u001b[0;32m    965\u001b[0m     X,\n\u001b[0;32m    966\u001b[0m     accept_sparse\u001b[39m=\u001b[39maccept_sparse,\n\u001b[1;32m   (...)\u001b[0m\n\u001b[0;32m    976\u001b[0m     estimator\u001b[39m=\u001b[39mestimator,\n\u001b[0;32m    977\u001b[0m )\n\u001b[1;32m--> 979\u001b[0m y \u001b[39m=\u001b[39m _check_y(y, multi_output\u001b[39m=\u001b[39;49mmulti_output, y_numeric\u001b[39m=\u001b[39;49my_numeric)\n\u001b[0;32m    981\u001b[0m check_consistent_length(X, y)\n\u001b[0;32m    983\u001b[0m \u001b[39mreturn\u001b[39;00m X, y\n",
      "File \u001b[1;32mc:\\Users\\user\\anaconda3\\lib\\site-packages\\sklearn\\utils\\validation.py:997\u001b[0m, in \u001b[0;36m_check_y\u001b[1;34m(y, multi_output, y_numeric)\u001b[0m\n\u001b[0;32m    995\u001b[0m     _ensure_no_complex_data(y)\n\u001b[0;32m    996\u001b[0m \u001b[39mif\u001b[39;00m y_numeric \u001b[39mand\u001b[39;00m y\u001b[39m.\u001b[39mdtype\u001b[39m.\u001b[39mkind \u001b[39m==\u001b[39m \u001b[39m\"\u001b[39m\u001b[39mO\u001b[39m\u001b[39m\"\u001b[39m:\n\u001b[1;32m--> 997\u001b[0m     y \u001b[39m=\u001b[39m y\u001b[39m.\u001b[39;49mastype(np\u001b[39m.\u001b[39;49mfloat64)\n\u001b[0;32m    999\u001b[0m \u001b[39mreturn\u001b[39;00m y\n",
      "\u001b[1;31mValueError\u001b[0m: could not convert string to float: 'Good'"
     ]
    }
   ],
   "source": [
    "ridge_reg = Ridge(alpha=1.0)\n",
    "ridge_reg.fit(X_train, y_train)\n",
    "\n",
    "lasso_reg = Lasso(alpha=1.0)\n",
    "lasso_reg.fit(X_train, y_train)"
   ]
  },
  {
   "cell_type": "code",
   "execution_count": 21,
   "id": "efc78085",
   "metadata": {},
   "outputs": [
    {
     "ename": "NameError",
     "evalue": "name 'lasso_reg' is not defined",
     "output_type": "error",
     "traceback": [
      "\u001b[1;31m---------------------------------------------------------------------------\u001b[0m",
      "\u001b[1;31mNameError\u001b[0m                                 Traceback (most recent call last)",
      "\u001b[1;32mc:\\Users\\user\\Downloads\\Assignment1 (1).ipynb Cell 20\u001b[0m line \u001b[0;36m<cell line: 1>\u001b[1;34m()\u001b[0m\n\u001b[1;32m----> <a href='vscode-notebook-cell:/c%3A/Users/user/Downloads/Assignment1%20%281%29.ipynb#X25sZmlsZQ%3D%3D?line=0'>1</a>\u001b[0m cross_val_score(lasso_reg, X_train, y_train, cv\u001b[39m=\u001b[39m\u001b[39m5\u001b[39m)\n\u001b[0;32m      <a href='vscode-notebook-cell:/c%3A/Users/user/Downloads/Assignment1%20%281%29.ipynb#X25sZmlsZQ%3D%3D?line=1'>2</a>\u001b[0m cross_val_score(ridge_reg, X_train, y_train, cv\u001b[39m=\u001b[39m\u001b[39m5\u001b[39m)\n",
      "\u001b[1;31mNameError\u001b[0m: name 'lasso_reg' is not defined"
     ]
    }
   ],
   "source": [
    "cross_val_score(lasso_reg, X_train, y_train, cv=5)\n",
    "cross_val_score(ridge_reg, X_train, y_train, cv=5)\n"
   ]
  },
  {
   "cell_type": "code",
   "execution_count": null,
   "metadata": {},
   "outputs": [],
   "source": [
    "for alpha in [1, 10, 500, 1000]:\n",
    "    lasso_reg = Lasso(alpha=alpha)\n",
    "    lasso_reg.fit(X_train, y_train)\n",
    "    print(\"Alpha = \", alpha, \"CV Scores = \",cross_val_score(lasso_reg, X_train, y_train, cv=5))"
   ]
  },
  {
   "cell_type": "code",
   "execution_count": null,
   "id": "be4e521a",
   "metadata": {},
   "outputs": [],
   "source": [
    "\n",
    "# Perform 5-fold cross-validation on the training data\n",
    "scores = cross_val_score(logreg, X_train, y_train, cv=5)\n",
    "\n",
    "# Print the average score and standard deviation across all 5 folds\n",
    "print(\"Cross-validation scores:\", scores)\n",
    "print(\"Mean accuracy: %0.2f (+/- %0.2f)\" % (scores.mean(), scores.std() * 2))"
   ]
  },
  {
   "cell_type": "code",
   "execution_count": null,
   "id": "2ea0fdcb",
   "metadata": {},
   "outputs": [],
   "source": [
    "# DECISION TREE\n",
    "tree_clf = tree.DecisionTreeClassifier()\n",
    "tree_clf = tree_clf.fit(X_train, y_train)"
   ]
  },
  {
   "cell_type": "code",
   "execution_count": null,
   "id": "393530e8",
   "metadata": {},
   "outputs": [],
   "source": [
    "\n",
    "# Now, compute scores for the 5 folds (this makes 5 seperate models, and tests them \n",
    "\n",
    "# each on a different 0.2 of the data set- returning a list of these scores).\n",
    "cv_scores = cross_val_score(tree_clf, X_train, y_train, cv=5)\n",
    "\n",
    "# print the mean of the list of scores\n",
    "print(\"cv_scores mean: {}\".format(np.mean(cv_scores)))"
   ]
  },
  {
   "cell_type": "code",
   "execution_count": null,
   "id": "1b685b4b",
   "metadata": {},
   "outputs": [],
   "source": [
    "# make some predictions on unseen data\n",
    "y_pred = tree_clf.predict(X_test)\n",
    "print(y_pred)\n",
    "accuracy = accuracy_score(y_test, y_pred)\n",
    "\n",
    "# print the accuracy of the model on the test data\n",
    "print(\"Accuracy: {:.2f}%\".format(accuracy * 100))\n",
    "# calculate accuracy of the predictions\n",
    "print(accuracy_score(y_test, y_pred))"
   ]
  },
  {
   "cell_type": "code",
   "execution_count": null,
   "id": "9c5832c2",
   "metadata": {},
   "outputs": [],
   "source": [
    "tree.plot_tree(tree_clf);\n",
    "\n",
    "# these lines will save the tree so you can view it outside the browser\n",
    "import matplotlib.pyplot as plt\n",
    "plt.savefig('tree.svg',format='svg',bbox_inches = \"tight\")"
   ]
  },
  {
   "cell_type": "code",
   "execution_count": null,
   "id": "0f8a7474",
   "metadata": {},
   "outputs": [],
   "source": [
    "# Define the hyperparameters to search over\n",
    "param_grid = {'C': [0.001, 0.01, 0.1, 1, 10, 100], 'penalty': ['l1', 'l2']}\n",
    "\n",
    "# Define the logistic regression model\n",
    "logreg = LogisticRegression(max_iter=1000)\n",
    "\n",
    "# Perform grid search using 5-fold cross-validation\n",
    "grid_search = GridSearchCV(logreg, param_grid, cv=5)\n",
    "grid_search.fit(X_train, y_train)\n",
    "\n",
    "# Get the best hyperparameters and use them to train the final model\n",
    "best_params = grid_search.best_params_\n",
    "final_logreg = LogisticRegression(**best_params, max_iter=1000)\n",
    "final_logreg.fit(X_train, y_train)\n",
    "\n",
    "# Evaluate the final model on the test data\n",
    "y_pred = final_logreg.predict(X_test)\n",
    "accuracy = accuracy_score(y_test, y_pred)\n",
    "print(f\"Accuracy of the logistic regression model: {accuracy:.2f}\")\n",
    "\n",
    "# Create a table of hyperparameters and accuracy\n",
    "results = pd.DataFrame(grid_search.cv_results_)\n",
    "results = results[['params', 'mean_test_score']]\n",
    "results = results.sort_values(by='mean_test_score', ascending=False)\n",
    "results = results.reset_index(drop=True)\n",
    "results['params'] = results['params'].astype(str)\n",
    "results[['C', 'penalty']] = results.params.str.extract(\"{'C': ([\\d\\.]+), 'penalty': '(\\w+)'}\")\n",
    "results = results.drop(columns=['params'])\n",
    "results = results.rename(columns={'mean_test_score': 'accuracy'})\n",
    "print(results)"
   ]
  }
 ],
 "metadata": {
  "kernelspec": {
   "display_name": "Python 3 (ipykernel)",
   "language": "python",
   "name": "python3"
  },
  "language_info": {
   "codemirror_mode": {
    "name": "ipython",
    "version": 3
   },
   "file_extension": ".py",
   "mimetype": "text/x-python",
   "name": "python",
   "nbconvert_exporter": "python",
   "pygments_lexer": "ipython3",
   "version": "3.9.12"
  }
 },
 "nbformat": 4,
 "nbformat_minor": 5
}
